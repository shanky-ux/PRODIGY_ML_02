{
  "nbformat": 4,
  "nbformat_minor": 0,
  "metadata": {
    "colab": {
      "provenance": [],
      "authorship_tag": "ABX9TyNj+BJBvqu9vl5u0Ebc5V/u",
      "include_colab_link": true
    },
    "kernelspec": {
      "name": "python3",
      "display_name": "Python 3"
    },
    "language_info": {
      "name": "python"
    }
  },
  "cells": [
    {
      "cell_type": "markdown",
      "metadata": {
        "id": "view-in-github",
        "colab_type": "text"
      },
      "source": [
        "<a href=\"https://colab.research.google.com/github/shanky-ux/PRODIGY_ML_01/blob/main/PRODIGY_ML_02.ipynb\" target=\"_parent\"><img src=\"https://colab.research.google.com/assets/colab-badge.svg\" alt=\"Open In Colab\"/></a>"
      ]
    },
    {
      "cell_type": "code",
      "execution_count": null,
      "metadata": {
        "id": "4kF6cRPWPNej"
      },
      "outputs": [],
      "source": [
        "import zipfile\n",
        "import numpy as np\n",
        "import pandas as pd\n",
        "from sklearn.cluster import KMeans\n",
        "from sklearn.preprocessing import StandardScaler"
      ]
    },
    {
      "cell_type": "code",
      "source": [
        "# Locating the zip file\n",
        "zip_path = '/content/data/archive.zip'\n",
        "extract_to_path = '/content/data/'\n",
        "\n",
        "# Extracting the new zip file\n",
        "with zipfile.ZipFile(zip_path, 'r') as zip_ref:\n",
        "    zip_ref.extractall(extract_to_path)"
      ],
      "metadata": {
        "id": "ezK3OfD-PbOJ"
      },
      "execution_count": null,
      "outputs": []
    },
    {
      "cell_type": "code",
      "source": [
        "# Loading the customer data\n",
        "customer_data_path = '/content/data/Mall_Customers.csv'\n",
        "customer_data = pd.read_csv(customer_data_path)"
      ],
      "metadata": {
        "id": "6p9DCeDJPce7"
      },
      "execution_count": null,
      "outputs": []
    },
    {
      "cell_type": "code",
      "source": [
        "X = customer_data[['Annual Income (k$)', 'Spending Score (1-100)']]\n",
        "scaler = StandardScaler()\n",
        "X_scaled = scaler.fit_transform(X)"
      ],
      "metadata": {
        "id": "nsE3bcqePe_Q"
      },
      "execution_count": null,
      "outputs": []
    },
    {
      "cell_type": "code",
      "source": [
        "# Determining the optimal number of clusters\n",
        "wcss = []\n",
        "for i in range(1, 11):\n",
        "    kmeans = KMeans(n_clusters=i, init='k-means++', max_iter=300, n_init=10, random_state=42)\n",
        "    kmeans.fit(X_scaled)\n",
        "    wcss.append(kmeans.inertia_)"
      ],
      "metadata": {
        "id": "R0Pv0A4iPjR0"
      },
      "execution_count": null,
      "outputs": []
    },
    {
      "cell_type": "code",
      "source": [
        "# Plotting the elbow curve and determine the optimal number of clusters\n",
        "import matplotlib.pyplot as plt\n",
        "plt.plot(range(1, 11), wcss)\n",
        "plt.title('The Elbow Method')\n",
        "plt.xlabel('Number of clusters')\n",
        "plt.ylabel('WCSS')\n",
        "plt.show()\n",
        "#according to my sepculations 4 clusters are the right amount of clusters"
      ],
      "metadata": {
        "id": "hTLuCXdTRSKa"
      },
      "execution_count": null,
      "outputs": []
    },
    {
      "cell_type": "markdown",
      "source": [
        "![ml_02.png](data:image/png;base64,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)"
      ],
      "metadata": {
        "id": "APqAeEiFRjj5"
      }
    },
    {
      "cell_type": "code",
      "source": [
        "# Applying K-Means clustering\n",
        "kmeans = KMeans(n_clusters=4, init='k-means++', max_iter=300, n_init=10, random_state=0)\n",
        "y_kmeans = kmeans.fit_predict(X_scaled)"
      ],
      "metadata": {
        "id": "lS1FzcihRm6e"
      },
      "execution_count": null,
      "outputs": []
    },
    {
      "cell_type": "code",
      "source": [
        "# Analying the clusters\n",
        "customer_data['cluster'] = y_kmeans\n",
        "cluster_centers = kmeans.cluster_centers_\n",
        "print('Cluster Centers:')\n",
        "print(cluster_centers)"
      ],
      "metadata": {
        "id": "8nQSJms0RrJh"
      },
      "execution_count": null,
      "outputs": []
    },
    {
      "cell_type": "code",
      "source": [
        "Output:\n",
        "Cluster Centers:\n",
        "[[ 0.99158305  1.23950275]\n",
        " [-0.46948398  0.2437994 ]\n",
        " [ 1.00919971 -1.22553537]\n",
        " [-1.30751869 -1.13696536]]"
      ],
      "metadata": {
        "id": "z_0fBPZdR-Nr"
      },
      "execution_count": null,
      "outputs": []
    },
    {
      "cell_type": "code",
      "source": [
        "# Assigning meaningful labels to the clusters\n",
        "cluster_labels = ['High Income, High Spending customers are:  ', 'High Income, Low Spending customers are :', 'Low Income , Low Spending customers are :  ', 'Low Income , High Spending customers are:  ']\n",
        "customer_data['cluster_label'] = [cluster_labels[label] for label in customer_data['cluster']]\n",
        "\n",
        "print(customer_data['cluster_label'].value_counts())"
      ],
      "metadata": {
        "id": "bQba4nJeRv0I"
      },
      "execution_count": null,
      "outputs": []
    },
    {
      "cell_type": "code",
      "source": [
        "Output:\n",
        "cluster_label\n",
        "High Income, Low Spending customers are :      100\n",
        "High Income, High Spending customers are:       39\n",
        "Low Income , Low Spending customers are :       38\n",
        "Low Income , High Spending customers are:       23\n",
        "Name: count, dtype: int64"
      ],
      "metadata": {
        "id": "GhV7vzIgRyol"
      },
      "execution_count": null,
      "outputs": []
    }
  ]
}